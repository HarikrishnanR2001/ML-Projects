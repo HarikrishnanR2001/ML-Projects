{
 "cells": [
  {
   "cell_type": "code",
   "execution_count": 67,
   "id": "77b3a411",
   "metadata": {},
   "outputs": [],
   "source": [
    "# generating input and output\n",
    "import numpy as np\n",
    "np.random.seed(42)\n",
    "x=2*np.random.rand(100,1)\n",
    "y=4+3*x+np.random.randn(100,1)\n"
   ]
  },
  {
   "cell_type": "code",
   "execution_count": 68,
   "id": "3e143ea8",
   "metadata": {},
   "outputs": [
    {
     "data": {
      "text/plain": [
       "array([[1.        , 0.74908024],\n",
       "       [1.        , 1.90142861],\n",
       "       [1.        , 1.46398788],\n",
       "       [1.        , 1.19731697],\n",
       "       [1.        , 0.31203728],\n",
       "       [1.        , 0.31198904],\n",
       "       [1.        , 0.11616722],\n",
       "       [1.        , 1.73235229],\n",
       "       [1.        , 1.20223002],\n",
       "       [1.        , 1.41614516],\n",
       "       [1.        , 0.04116899],\n",
       "       [1.        , 1.9398197 ],\n",
       "       [1.        , 1.66488528],\n",
       "       [1.        , 0.42467822],\n",
       "       [1.        , 0.36364993],\n",
       "       [1.        , 0.36680902],\n",
       "       [1.        , 0.60848449],\n",
       "       [1.        , 1.04951286],\n",
       "       [1.        , 0.86389004],\n",
       "       [1.        , 0.58245828],\n",
       "       [1.        , 1.22370579],\n",
       "       [1.        , 0.27898772],\n",
       "       [1.        , 0.5842893 ],\n",
       "       [1.        , 0.73272369],\n",
       "       [1.        , 0.91213997],\n",
       "       [1.        , 1.57035192],\n",
       "       [1.        , 0.39934756],\n",
       "       [1.        , 1.02846888],\n",
       "       [1.        , 1.18482914],\n",
       "       [1.        , 0.09290083],\n",
       "       [1.        , 1.2150897 ],\n",
       "       [1.        , 0.34104825],\n",
       "       [1.        , 0.13010319],\n",
       "       [1.        , 1.89777107],\n",
       "       [1.        , 1.93126407],\n",
       "       [1.        , 1.6167947 ],\n",
       "       [1.        , 0.60922754],\n",
       "       [1.        , 0.19534423],\n",
       "       [1.        , 1.36846605],\n",
       "       [1.        , 0.88030499],\n",
       "       [1.        , 0.24407647],\n",
       "       [1.        , 0.99035382],\n",
       "       [1.        , 0.06877704],\n",
       "       [1.        , 1.8186408 ],\n",
       "       [1.        , 0.51755996],\n",
       "       [1.        , 1.32504457],\n",
       "       [1.        , 0.62342215],\n",
       "       [1.        , 1.04013604],\n",
       "       [1.        , 1.09342056],\n",
       "       [1.        , 0.36970891],\n",
       "       [1.        , 1.93916926],\n",
       "       [1.        , 1.55026565],\n",
       "       [1.        , 1.87899788],\n",
       "       [1.        , 1.7896547 ],\n",
       "       [1.        , 1.19579996],\n",
       "       [1.        , 1.84374847],\n",
       "       [1.        , 0.176985  ],\n",
       "       [1.        , 0.39196572],\n",
       "       [1.        , 0.09045458],\n",
       "       [1.        , 0.65066066],\n",
       "       [1.        , 0.77735458],\n",
       "       [1.        , 0.54269806],\n",
       "       [1.        , 1.65747502],\n",
       "       [1.        , 0.71350665],\n",
       "       [1.        , 0.56186902],\n",
       "       [1.        , 1.08539217],\n",
       "       [1.        , 0.28184845],\n",
       "       [1.        , 1.60439396],\n",
       "       [1.        , 0.14910129],\n",
       "       [1.        , 1.97377387],\n",
       "       [1.        , 1.54448954],\n",
       "       [1.        , 0.39743136],\n",
       "       [1.        , 0.01104423],\n",
       "       [1.        , 1.63092286],\n",
       "       [1.        , 1.41371469],\n",
       "       [1.        , 1.45801434],\n",
       "       [1.        , 1.54254069],\n",
       "       [1.        , 0.1480893 ],\n",
       "       [1.        , 0.71693146],\n",
       "       [1.        , 0.23173812],\n",
       "       [1.        , 1.72620685],\n",
       "       [1.        , 1.24659625],\n",
       "       [1.        , 0.66179605],\n",
       "       [1.        , 0.1271167 ],\n",
       "       [1.        , 0.62196464],\n",
       "       [1.        , 0.65036664],\n",
       "       [1.        , 1.45921236],\n",
       "       [1.        , 1.27511494],\n",
       "       [1.        , 1.77442549],\n",
       "       [1.        , 0.94442985],\n",
       "       [1.        , 0.23918849],\n",
       "       [1.        , 1.42648957],\n",
       "       [1.        , 1.5215701 ],\n",
       "       [1.        , 1.1225544 ],\n",
       "       [1.        , 1.54193436],\n",
       "       [1.        , 0.98759119],\n",
       "       [1.        , 1.04546566],\n",
       "       [1.        , 0.85508204],\n",
       "       [1.        , 0.05083825],\n",
       "       [1.        , 0.21578285]])"
      ]
     },
     "execution_count": 68,
     "metadata": {},
     "output_type": "execute_result"
    }
   ],
   "source": [
    "#fitting parameters using normal equations\n",
    "x=np.c_[np.ones((100,1)),x]\n",
    "a=np.linalg.inv(x.T.dot(x)).dot(x.T).dot(y)\n",
    "x\n",
    "\n",
    "\n"
   ]
  },
  {
   "cell_type": "code",
   "execution_count": 69,
   "id": "9b525a5a",
   "metadata": {},
   "outputs": [
    {
     "name": "stdout",
     "output_type": "stream",
     "text": [
      "[[4.21509616]\n",
      " [2.77011339]]\n"
     ]
    }
   ],
   "source": [
    "#checking out the coefficients\n",
    "print(a)\n",
    "\n"
   ]
  },
  {
   "cell_type": "code",
   "execution_count": 70,
   "id": "dda41310",
   "metadata": {},
   "outputs": [
    {
     "name": "stdout",
     "output_type": "stream",
     "text": [
      "[[0]\n",
      " [5]]\n"
     ]
    },
    {
     "data": {
      "text/plain": [
       "array([[ 4.21509616],\n",
       "       [18.06566309]])"
      ]
     },
     "execution_count": 70,
     "metadata": {},
     "output_type": "execute_result"
    }
   ],
   "source": [
    "#using the coeeficients to predict values\n",
    "x_test=np.array([[0],[5]])\n",
    "print(x_test)\n",
    "x_test=np.c_[np.ones((2,1)),x_test]\n",
    "prediction=x_test.dot(a)\n",
    "prediction"
   ]
  },
  {
   "cell_type": "code",
   "execution_count": 71,
   "id": "3b758e7a",
   "metadata": {},
   "outputs": [
    {
     "data": {
      "image/png": "[encoded data removed]",
      "text/plain": [
       "<Figure size 640x480 with 1 Axes>"
      ]
     },
     "metadata": {},
     "output_type": "display_data"
    }
   ],
   "source": [
    "#plotting predictions\n",
    "from matplotlib import pyplot as plt\n",
    "plt.plot(x[:,1],x.dot(a),\"r-\")\n",
    "plt.plot(x[:,1],y,\"b .\")\n",
    "plt.show()"
   ]
  },
  {
   "cell_type": "code",
   "execution_count": 72,
   "id": "9e99bcc1",
   "metadata": {},
   "outputs": [
    {
     "name": "stdout",
     "output_type": "stream",
     "text": [
      " The intercept is:[4.21509616]\n",
      " The coefficient is:[[0.         2.77011339]]\n"
     ]
    }
   ],
   "source": [
    "#Linear regression using sklearn\n",
    "from sklearn.linear_model import LinearRegression\n",
    "x=x.reshape(100,2)\n",
    "y=y.reshape(100,1)\n",
    "lin=LinearRegression()\n",
    "lin.fit(x,y)\n",
    "print(f\" The intercept is:{lin.intercept_}\")\n",
    "# print(f\" The coefficient is:{lin.coef_[:,1]}\")\n",
    "print(f\" The coefficient is:{lin.coef_[:1]}\")"
   ]
  },
  {
   "cell_type": "code",
   "execution_count": 73,
   "id": "ac141299",
   "metadata": {},
   "outputs": [
    {
     "data": {
      "text/plain": [
       "array([[4.21509616],\n",
       "       [2.77011339]])"
      ]
     },
     "execution_count": 73,
     "metadata": {},
     "output_type": "execute_result"
    }
   ],
   "source": [
    "#Using Gradient Descent to compute Theeta\n",
    "eta=0.38\n",
    "itr=1000\n",
    "m=100\n",
    "initial_t=np.random.randn(2,1)\n",
    "\n",
    "for i in range(itr):\n",
    "    gradient=2/m*x.T.dot(x.dot(initial_t)-y)\n",
    "    initial_t=initial_t-eta*gradient\n",
    "\n",
    "initial_t"
   ]
  },
  {
   "cell_type": "code",
   "execution_count": 74,
   "id": "56810c5f",
   "metadata": {},
   "outputs": [
    {
     "data": {
      "image/png": "[encoded data removed]",
      "text/plain": [
       "<Figure size 640x480 with 1 Axes>"
      ]
     },
     "metadata": {},
     "output_type": "display_data"
    }
   ],
   "source": [
    "#plotting the gd line \n",
    "plt.plot(x[:,1],x.dot(initial_t),\"r-\")\n",
    "plt.plot(x[:,1],y,\"b.\")\n",
    "plt.show()"
   ]
  },
  {
   "cell_type": "code",
   "execution_count": 75,
   "id": "8212f444",
   "metadata": {},
   "outputs": [],
   "source": [
    "#using SGD\n",
    "epc=50\n",
    "t0,t1=5,50\n",
    "\n",
    "def learning_schedule(t):\n",
    "    return t0/(t1+t)\n",
    "\n",
    "theeta=np.random.randn(2,1)\n",
    "m=x.shape[0]\n",
    "\n",
    "for i in range(epc):\n",
    "    for i in range (m):\n",
    "        inst=np.random.randint(m)\n",
    "        xi=x[inst:inst+1]\n",
    "        yi=y[inst:inst+1]\n",
    "        grd=2*xi.T.dot(xi.dot(theeta)-yi)\n",
    "        eta=learning_schedule(epc*m+i)\n",
    "        theeta=theeta-eta*grd\n"
   ]
  },
  {
   "cell_type": "code",
   "execution_count": 76,
   "id": "6dc2ce70",
   "metadata": {},
   "outputs": [
    {
     "name": "stdout",
     "output_type": "stream",
     "text": [
      "[[3.70614498]\n",
      " [3.16501338]]\n"
     ]
    }
   ],
   "source": [
    "print(theeta)"
   ]
  },
  {
   "cell_type": "code",
   "execution_count": 77,
   "id": "abd68a95",
   "metadata": {},
   "outputs": [],
   "source": [
    "#polynomial regression:\n",
    "#generating the data set:\n",
    "\n",
    "n=200\n",
    "x=3*np.random.rand(n,1)-3\n",
    "y=11*x**2+x+2+np.random.randn(n,1)  #SOURCE \n"
   ]
  },
  {
   "cell_type": "code",
   "execution_count": 78,
   "id": "5f56b44a",
   "metadata": {},
   "outputs": [
    {
     "data": {
      "image/png": "[encoded data removed]",
      "text/plain": [
       "<Figure size 640x480 with 1 Axes>"
      ]
     },
     "metadata": {},
     "output_type": "display_data"
    }
   ],
   "source": [
    "plt.plot(x,y,\"b.\")\n",
    "plt.show()"
   ]
  },
  {
   "cell_type": "code",
   "execution_count": null,
   "id": "7f569d4b",
   "metadata": {},
   "outputs": [
    {
     "name": "stdout",
     "output_type": "stream",
     "text": [
      "the intercept is[2.00132009] and the coefficients are [[ 1.24934011 11.09208653]]\n"
     ]
    }
   ],
   "source": [
    "#adding additional powers and fitting a regression model\n",
    "from sklearn.preprocessing import PolynomialFeatures\n",
    "poly_features=PolynomialFeatures(degree=2,include_bias=False) #Adding the X^2 term\n",
    "x_mod=poly_features.fit_transform(x)\n",
    "\n",
    "\n",
    "x_mod.shape\n",
    "\n",
    "l_reg=LinearRegression()\n",
    "l_reg.fit(x_mod,y)\n",
    "print(f\"the intercept is{l_reg.intercept_} and the coefficients are {l_reg.coef_}\")\n"
   ]
  },
  {
   "cell_type": "code",
   "execution_count": 86,
   "id": "338f0a8b",
   "metadata": {},
   "outputs": [
    {
     "data": {
      "image/png": "[encoded data removed]",
      "text/plain": [
       "<Figure size 640x480 with 1 Axes>"
      ]
     },
     "metadata": {},
     "output_type": "display_data"
    }
   ],
   "source": [
    "# plotting the learning curve\n",
    "\n",
    "from sklearn.metrics import mean_squared_error\n",
    "from sklearn.model_selection import train_test_split\n",
    "\n",
    "x_train,x_val,y_train,y_val=train_test_split(x_mod,y,test_size=0.2)\n",
    "train_errors,val_errors=[],[]\n",
    "for m in range(1,len(x_train)):\n",
    "    lin=l_reg.fit(x_train[:m],y_train[:m])\n",
    "    y_train_pred=lin.predict(x_train[:m])\n",
    "    y_val_pred=lin.predict(x_val[:m])\n",
    "    train_errors.append(mean_squared_error(y_train[:m],y_train_pred))\n",
    "    val_errors.append(mean_squared_error(y_val[:m],y_val_pred))\n",
    "\n",
    "plt.plot(np.sqrt(train_errors),\"r-+\",label=\"train\")\n",
    "plt.plot(np.sqrt(val_errors),\"b-\",label=\"val\")\n",
    "plt.ylabel(\"RMSE\")\n",
    "plt.xlabel(\"Trainig set size\")\n",
    "plt.legend()\n",
    "plt.show()\n",
    "\n"
   ]
  },
  {
   "cell_type": "code",
   "execution_count": null,
   "id": "669312fb",
   "metadata": {},
   "outputs": [],
   "source": []
  }
 ],
 "metadata": {
  "kernelspec": {
   "display_name": ".venv (3.13.7)",
   "language": "python",
   "name": "python3"
  },
  "language_info": {
   "codemirror_mode": {
    "name": "ipython",
    "version": 3
   },
   "file_extension": ".py",
   "mimetype": "text/x-python",
   "name": "python",
   "nbconvert_exporter": "python",
   "pygments_lexer": "ipython3",
   "version": "3.13.7"
  }
 },
 "nbformat": 4,
 "nbformat_minor": 5
}
